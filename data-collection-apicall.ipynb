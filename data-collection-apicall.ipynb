{
 "cells": [
  {
   "cell_type": "markdown",
   "metadata": {},
   "source": [
    "<center>\n",
    "<img src=\"https://cf-courses-data.s3.us.cloud-object-storage.appdomain.cloud/IBMDeveloperSkillsNetwork-RP0321EN-SkillsNetwork/labs/module_1/images/SN_web_lightmode.png\" width=\"300\"> \n",
    "</center>\n"
   ]
  },
  {
   "cell_type": "markdown",
   "metadata": {},
   "source": [
    "<h1>OpenWeather APIs Calls</h1>\n",
    "\n",
    "Estimated time needed: **40** minutes\n"
   ]
  },
  {
   "cell_type": "markdown",
   "metadata": {},
   "source": [
    "## Lab Overview:\n",
    "\n",
    "In this lab, you will be collecting real-time current and forecasted weather data for cities using the **OpenWeather API**. It can give you current weather data for any location including over 200,000 cities and 5 day forecasts for free (with limited API usage). You just need to use HTTP requests to call those weather APIs and get the weather data.\n",
    "\n",
    "You will be given instructions to set up a free OpenWeather API account with an API key for authentication. Then, you will be shown, with code examples, how to get the current weather for a given city. After you are familiar with OpenWeather API, you will be asked to get 5-day forecast data for a list of cities.\n"
   ]
  },
  {
   "cell_type": "markdown",
   "metadata": {},
   "source": [
    "## Setup OpenWeather API account\n"
   ]
  },
  {
   "cell_type": "markdown",
   "metadata": {},
   "source": [
    "You can create an OpenWeather API account [here](https://home.openweathermap.org/users/sign_up). After your account has been created and verified, you can go to Account -> My API Keys:\n"
   ]
  },
  {
   "cell_type": "markdown",
   "metadata": {},
   "source": [
    "<a href=\"https://cognitiveclass.ai/\">\n",
    "    <img src=\"https://cf-courses-data.s3.us.cloud-object-storage.appdomain.cloud/IBMDeveloperSkillsNetwork-RP0321EN-SkillsNetwork/labs/module_1/images/l2-openweather-apikey.png\" width=\"400\" align=\"center\">\n",
    "</a>\n"
   ]
  },
  {
   "cell_type": "markdown",
   "metadata": {},
   "source": [
    "and find your API key here:\n"
   ]
  },
  {
   "cell_type": "markdown",
   "metadata": {},
   "source": [
    "<a href=\"https://cognitiveclass.ai/\">\n",
    "    <img src=\"https://cf-courses-data.s3.us.cloud-object-storage.appdomain.cloud/IBMDeveloperSkillsNetwork-RP0321EN-SkillsNetwork/labs/module_1/images/l2-openweather-apikey-value.png\" width=\"400\" align=\"center\">\n",
    "</a>\n"
   ]
  },
  {
   "cell_type": "markdown",
   "metadata": {},
   "source": [
    "Now mark down your generated API key, which will be used to authenticate your HTTP requests to OpenWeather API.\n",
    "\n",
    "Note that a new API key may take some time to be activated. You may quickly try the following URL using a web browser.\n",
    "\n",
    "With the `{your_api_key}` URL parameter replaced by your own API key and go to the following URL:\n",
    "\n",
    "https://api.openweathermap.org/data/2.5/weather?q=Seoul&appid={your_api_key}\n"
   ]
  },
  {
   "cell_type": "markdown",
   "metadata": {},
   "source": [
    "\n",
    "until you see some weather data returned (instead of 401 or other error status), similar to the following JSON result:\n",
    "\n",
    "```\n",
    "{\"coord\":{\"lon\":126.9778,\"lat\":37.5683},\n",
    "\"weather\":[{\"id\":800,\"main\":\"Clear\",\"description\":\"clear sky\",\"icon\":\"01n\"}],\n",
    "\"base\":\"stations\",\n",
    "\"main\":{\"temp\":285.16,\"feels_like\":284.04,\"temp_min\":284.15,\"temp_max\":287.15,\"pressure\":1020,\"humidity\":62},\n",
    "\"visibility\":10000,\n",
    "\"wind\":{\"speed\":1.03,\"deg\":220},\"clouds\":{\"all\":0},\"dt\":1617718307,\"sys\":{\"type\":1,\"id\":8105,\"country\":\"KR\",\"sunrise\":1617657021,\"sunset\":1617703103},\"timezone\":32400,\"id\":1835848,\"name\":\"Seoul\",\"cod\":200}\n",
    "```\n"
   ]
  },
  {
   "cell_type": "markdown",
   "metadata": {},
   "source": [
    "## Coding Practice: Get the current weather data for a city using OpenWeather API\n"
   ]
  },
  {
   "cell_type": "markdown",
   "metadata": {},
   "source": [
    "First import `httr` library. Run install.packages(\"httr\") prior to loading the package only if you are running this lab locally on RStudio on your system.\n"
   ]
  },
  {
   "cell_type": "code",
   "execution_count": 6,
   "metadata": {
    "tags": []
   },
   "outputs": [],
   "source": [
    "# Check if need to install rvest` library\n",
    "\n",
    "library(httr)"
   ]
  },
  {
   "cell_type": "markdown",
   "metadata": {},
   "source": [
    "The API base URL to get current weather is https://api.openweathermap.org/data/2.5/weather\n"
   ]
  },
  {
   "cell_type": "code",
   "execution_count": 7,
   "metadata": {
    "tags": []
   },
   "outputs": [],
   "source": [
    "# URL for Current Weather API\n",
    "current_weather_url <- 'https://api.openweathermap.org/data/2.5/weather'"
   ]
  },
  {
   "cell_type": "markdown",
   "metadata": {},
   "source": [
    "Next, let's create a list to hold URL parameters for current weather API\n"
   ]
  },
  {
   "cell_type": "code",
   "execution_count": 8,
   "metadata": {
    "tags": []
   },
   "outputs": [],
   "source": [
    "# need to be replaced by your real API key\n",
    "city_name12 <- c(\"Seoul\")\n",
    "your_api_key <- \"c1d1ddad54c9b3173104d6f3e6076c04\"\n",
    "# Input `q` is the city name\n",
    "# Input `appid` is your API KEY, \n",
    "# Input `units` are preferred units such as Metric or Imperial\n",
    "current_query <- list(q = city_name12, appid = your_api_key, units=\"metric\")"
   ]
  },
  {
   "cell_type": "markdown",
   "metadata": {},
   "source": [
    "Now we can make a HTTP request to the current weather API\n"
   ]
  },
  {
   "cell_type": "code",
   "execution_count": 9,
   "metadata": {
    "tags": []
   },
   "outputs": [],
   "source": [
    "response <- GET(current_weather_url, query=current_query)"
   ]
  },
  {
   "cell_type": "markdown",
   "metadata": {},
   "source": [
    "If we check the response type, we can see it is in JSON format\n"
   ]
  },
  {
   "cell_type": "code",
   "execution_count": 10,
   "metadata": {
    "tags": []
   },
   "outputs": [
    {
     "data": {
      "text/html": [
       "'application/json'"
      ],
      "text/latex": [
       "'application/json'"
      ],
      "text/markdown": [
       "'application/json'"
      ],
      "text/plain": [
       "[1] \"application/json\""
      ]
     },
     "metadata": {},
     "output_type": "display_data"
    }
   ],
   "source": [
    "http_type(response)"
   ]
  },
  {
   "cell_type": "markdown",
   "metadata": {},
   "source": [
    "JSON is an open standard file and data interchange format that uses human-readable text to store and transmit data objects. To read the JSON HTTP response, you can use the `content()` function to parse it as a named list in R.\n"
   ]
  },
  {
   "cell_type": "code",
   "execution_count": 11,
   "metadata": {
    "tags": []
   },
   "outputs": [],
   "source": [
    "json_result <- content(response, as=\"parsed\")"
   ]
  },
  {
   "cell_type": "markdown",
   "metadata": {},
   "source": [
    "If you use the `class()` function, you can see it is a R `List` object\n"
   ]
  },
  {
   "cell_type": "code",
   "execution_count": 12,
   "metadata": {
    "tags": []
   },
   "outputs": [
    {
     "data": {
      "text/html": [
       "'list'"
      ],
      "text/latex": [
       "'list'"
      ],
      "text/markdown": [
       "'list'"
      ],
      "text/plain": [
       "[1] \"list\""
      ]
     },
     "metadata": {},
     "output_type": "display_data"
    }
   ],
   "source": [
    "class(json_result)"
   ]
  },
  {
   "cell_type": "markdown",
   "metadata": {},
   "source": [
    "Now let's print the JSON result.\n"
   ]
  },
  {
   "cell_type": "code",
   "execution_count": 13,
   "metadata": {
    "tags": []
   },
   "outputs": [
    {
     "data": {
      "text/html": [
       "<dl>\n",
       "\t<dt>$coord</dt>\n",
       "\t\t<dd><dl>\n",
       "\t<dt>$lon</dt>\n",
       "\t\t<dd>126.9778</dd>\n",
       "\t<dt>$lat</dt>\n",
       "\t\t<dd>37.5683</dd>\n",
       "</dl>\n",
       "</dd>\n",
       "\t<dt>$weather</dt>\n",
       "\t\t<dd><ol>\n",
       "\t<li><dl>\n",
       "\t<dt>$id</dt>\n",
       "\t\t<dd>502</dd>\n",
       "\t<dt>$main</dt>\n",
       "\t\t<dd>'Rain'</dd>\n",
       "\t<dt>$description</dt>\n",
       "\t\t<dd>'heavy intensity rain'</dd>\n",
       "\t<dt>$icon</dt>\n",
       "\t\t<dd>'10d'</dd>\n",
       "</dl>\n",
       "</li>\n",
       "</ol>\n",
       "</dd>\n",
       "\t<dt>$base</dt>\n",
       "\t\t<dd>'stations'</dd>\n",
       "\t<dt>$main</dt>\n",
       "\t\t<dd><dl>\n",
       "\t<dt>$temp</dt>\n",
       "\t\t<dd>16.76</dd>\n",
       "\t<dt>$feels_like</dt>\n",
       "\t\t<dd>17.1</dd>\n",
       "\t<dt>$temp_min</dt>\n",
       "\t\t<dd>16.76</dd>\n",
       "\t<dt>$temp_max</dt>\n",
       "\t\t<dd>16.76</dd>\n",
       "\t<dt>$pressure</dt>\n",
       "\t\t<dd>1011</dd>\n",
       "\t<dt>$humidity</dt>\n",
       "\t\t<dd>100</dd>\n",
       "\t<dt>$sea_level</dt>\n",
       "\t\t<dd>1011</dd>\n",
       "\t<dt>$grnd_level</dt>\n",
       "\t\t<dd>1001</dd>\n",
       "</dl>\n",
       "</dd>\n",
       "\t<dt>$visibility</dt>\n",
       "\t\t<dd>2000</dd>\n",
       "\t<dt>$wind</dt>\n",
       "\t\t<dd><dl>\n",
       "\t<dt>$speed</dt>\n",
       "\t\t<dd>2.06</dd>\n",
       "\t<dt>$deg</dt>\n",
       "\t\t<dd>340</dd>\n",
       "</dl>\n",
       "</dd>\n",
       "\t<dt>$rain</dt>\n",
       "\t\t<dd><strong>$`1h`</strong> = 14.96</dd>\n",
       "\t<dt>$clouds</dt>\n",
       "\t\t<dd><strong>$all</strong> = 100</dd>\n",
       "\t<dt>$dt</dt>\n",
       "\t\t<dd>1729230957</dd>\n",
       "\t<dt>$sys</dt>\n",
       "\t\t<dd><dl>\n",
       "\t<dt>$type</dt>\n",
       "\t\t<dd>1</dd>\n",
       "\t<dt>$id</dt>\n",
       "\t\t<dd>8105</dd>\n",
       "\t<dt>$country</dt>\n",
       "\t\t<dd>'KR'</dd>\n",
       "\t<dt>$sunrise</dt>\n",
       "\t\t<dd>1729201370</dd>\n",
       "\t<dt>$sunset</dt>\n",
       "\t\t<dd>1729241479</dd>\n",
       "</dl>\n",
       "</dd>\n",
       "\t<dt>$timezone</dt>\n",
       "\t\t<dd>32400</dd>\n",
       "\t<dt>$id</dt>\n",
       "\t\t<dd>1835848</dd>\n",
       "\t<dt>$name</dt>\n",
       "\t\t<dd>'Seoul'</dd>\n",
       "\t<dt>$cod</dt>\n",
       "\t\t<dd>200</dd>\n",
       "</dl>\n"
      ],
      "text/latex": [
       "\\begin{description}\n",
       "\\item[\\$coord] \\begin{description}\n",
       "\\item[\\$lon] 126.9778\n",
       "\\item[\\$lat] 37.5683\n",
       "\\end{description}\n",
       "\n",
       "\\item[\\$weather] \\begin{enumerate}\n",
       "\\item \\begin{description}\n",
       "\\item[\\$id] 502\n",
       "\\item[\\$main] 'Rain'\n",
       "\\item[\\$description] 'heavy intensity rain'\n",
       "\\item[\\$icon] '10d'\n",
       "\\end{description}\n",
       "\n",
       "\\end{enumerate}\n",
       "\n",
       "\\item[\\$base] 'stations'\n",
       "\\item[\\$main] \\begin{description}\n",
       "\\item[\\$temp] 16.76\n",
       "\\item[\\$feels\\_like] 17.1\n",
       "\\item[\\$temp\\_min] 16.76\n",
       "\\item[\\$temp\\_max] 16.76\n",
       "\\item[\\$pressure] 1011\n",
       "\\item[\\$humidity] 100\n",
       "\\item[\\$sea\\_level] 1011\n",
       "\\item[\\$grnd\\_level] 1001\n",
       "\\end{description}\n",
       "\n",
       "\\item[\\$visibility] 2000\n",
       "\\item[\\$wind] \\begin{description}\n",
       "\\item[\\$speed] 2.06\n",
       "\\item[\\$deg] 340\n",
       "\\end{description}\n",
       "\n",
       "\\item[\\$rain] \\textbf{\\$`1h`} = 14.96\n",
       "\\item[\\$clouds] \\textbf{\\$all} = 100\n",
       "\\item[\\$dt] 1729230957\n",
       "\\item[\\$sys] \\begin{description}\n",
       "\\item[\\$type] 1\n",
       "\\item[\\$id] 8105\n",
       "\\item[\\$country] 'KR'\n",
       "\\item[\\$sunrise] 1729201370\n",
       "\\item[\\$sunset] 1729241479\n",
       "\\end{description}\n",
       "\n",
       "\\item[\\$timezone] 32400\n",
       "\\item[\\$id] 1835848\n",
       "\\item[\\$name] 'Seoul'\n",
       "\\item[\\$cod] 200\n",
       "\\end{description}\n"
      ],
      "text/markdown": [
       "$coord\n",
       ":   $lon\n",
       ":   126.9778\n",
       "$lat\n",
       ":   37.5683\n",
       "\n",
       "\n",
       "\n",
       "$weather\n",
       ":   1. $id\n",
       ":   502\n",
       "$main\n",
       ":   'Rain'\n",
       "$description\n",
       ":   'heavy intensity rain'\n",
       "$icon\n",
       ":   '10d'\n",
       "\n",
       "\n",
       "\n",
       "\n",
       "\n",
       "\n",
       "$base\n",
       ":   'stations'\n",
       "$main\n",
       ":   $temp\n",
       ":   16.76\n",
       "$feels_like\n",
       ":   17.1\n",
       "$temp_min\n",
       ":   16.76\n",
       "$temp_max\n",
       ":   16.76\n",
       "$pressure\n",
       ":   1011\n",
       "$humidity\n",
       ":   100\n",
       "$sea_level\n",
       ":   1011\n",
       "$grnd_level\n",
       ":   1001\n",
       "\n",
       "\n",
       "\n",
       "$visibility\n",
       ":   2000\n",
       "$wind\n",
       ":   $speed\n",
       ":   2.06\n",
       "$deg\n",
       ":   340\n",
       "\n",
       "\n",
       "\n",
       "$rain\n",
       ":   **$`1h`** = 14.96\n",
       "$clouds\n",
       ":   **$all** = 100\n",
       "$dt\n",
       ":   1729230957\n",
       "$sys\n",
       ":   $type\n",
       ":   1\n",
       "$id\n",
       ":   8105\n",
       "$country\n",
       ":   'KR'\n",
       "$sunrise\n",
       ":   1729201370\n",
       "$sunset\n",
       ":   1729241479\n",
       "\n",
       "\n",
       "\n",
       "$timezone\n",
       ":   32400\n",
       "$id\n",
       ":   1835848\n",
       "$name\n",
       ":   'Seoul'\n",
       "$cod\n",
       ":   200\n",
       "\n",
       "\n"
      ],
      "text/plain": [
       "$coord\n",
       "$coord$lon\n",
       "[1] 126.9778\n",
       "\n",
       "$coord$lat\n",
       "[1] 37.5683\n",
       "\n",
       "\n",
       "$weather\n",
       "$weather[[1]]\n",
       "$weather[[1]]$id\n",
       "[1] 502\n",
       "\n",
       "$weather[[1]]$main\n",
       "[1] \"Rain\"\n",
       "\n",
       "$weather[[1]]$description\n",
       "[1] \"heavy intensity rain\"\n",
       "\n",
       "$weather[[1]]$icon\n",
       "[1] \"10d\"\n",
       "\n",
       "\n",
       "\n",
       "$base\n",
       "[1] \"stations\"\n",
       "\n",
       "$main\n",
       "$main$temp\n",
       "[1] 16.76\n",
       "\n",
       "$main$feels_like\n",
       "[1] 17.1\n",
       "\n",
       "$main$temp_min\n",
       "[1] 16.76\n",
       "\n",
       "$main$temp_max\n",
       "[1] 16.76\n",
       "\n",
       "$main$pressure\n",
       "[1] 1011\n",
       "\n",
       "$main$humidity\n",
       "[1] 100\n",
       "\n",
       "$main$sea_level\n",
       "[1] 1011\n",
       "\n",
       "$main$grnd_level\n",
       "[1] 1001\n",
       "\n",
       "\n",
       "$visibility\n",
       "[1] 2000\n",
       "\n",
       "$wind\n",
       "$wind$speed\n",
       "[1] 2.06\n",
       "\n",
       "$wind$deg\n",
       "[1] 340\n",
       "\n",
       "\n",
       "$rain\n",
       "$rain$`1h`\n",
       "[1] 14.96\n",
       "\n",
       "\n",
       "$clouds\n",
       "$clouds$all\n",
       "[1] 100\n",
       "\n",
       "\n",
       "$dt\n",
       "[1] 1729230957\n",
       "\n",
       "$sys\n",
       "$sys$type\n",
       "[1] 1\n",
       "\n",
       "$sys$id\n",
       "[1] 8105\n",
       "\n",
       "$sys$country\n",
       "[1] \"KR\"\n",
       "\n",
       "$sys$sunrise\n",
       "[1] 1729201370\n",
       "\n",
       "$sys$sunset\n",
       "[1] 1729241479\n",
       "\n",
       "\n",
       "$timezone\n",
       "[1] 32400\n",
       "\n",
       "$id\n",
       "[1] 1835848\n",
       "\n",
       "$name\n",
       "[1] \"Seoul\"\n",
       "\n",
       "$cod\n",
       "[1] 200\n"
      ]
     },
     "metadata": {},
     "output_type": "display_data"
    }
   ],
   "source": [
    "json_result"
   ]
  },
  {
   "cell_type": "markdown",
   "metadata": {},
   "source": [
    "It contains very detailed weather data about the city of `Seoul`. Feel free to try other cities as well. We need to convert the named list to a data frame so that we can use data frame operations to process the data. Below is a simple example, which you may implement your own way to convert it to a data frame.\n"
   ]
  },
  {
   "cell_type": "code",
   "execution_count": 14,
   "metadata": {
    "tags": []
   },
   "outputs": [],
   "source": [
    "# Create some empty vectors to hold data temporarily\n",
    "weather <- c()\n",
    "visibility <- c()\n",
    "temp <- c()\n",
    "temp_min <- c()\n",
    "temp_max <- c()\n",
    "pressure <- c()\n",
    "humidity <- c()\n",
    "wind_speed <- c()\n",
    "wind_deg <- c()\n"
   ]
  },
  {
   "cell_type": "markdown",
   "metadata": {},
   "source": [
    "Now assign the values in the `json_result` list into different vectors\n"
   ]
  },
  {
   "cell_type": "code",
   "execution_count": 15,
   "metadata": {
    "tags": []
   },
   "outputs": [],
   "source": [
    "# $weather is also a list with one element, its $main element indicates the weather status such as clear or rain\n",
    "weather <- c(weather, json_result$weather[[1]]$main)\n",
    "# Get Visibility\n",
    "visibility <- c(visibility, json_result$visibility)\n",
    "# Get current temperature \n",
    "temp <- c(temp, json_result$main$temp)\n",
    "# Get min temperature \n",
    "temp_min <- c(temp_min, json_result$main$temp_min)\n",
    "# Get max temperature \n",
    "temp_max <- c(temp_max, json_result$main$temp_max)\n",
    "# Get pressure\n",
    "pressure <- c(pressure, json_result$main$pressure)\n",
    "# Get humidity\n",
    "humidity <- c(humidity, json_result$main$humidity)\n",
    "# Get wind speed\n",
    "wind_speed <- c(wind_speed, json_result$wind$speed)\n",
    "# Get wind direction\n",
    "wind_deg <- c(wind_deg, json_result$wind$deg)\n"
   ]
  },
  {
   "cell_type": "markdown",
   "metadata": {},
   "source": [
    "Combine all vectors as columns of a data frame\n"
   ]
  },
  {
   "cell_type": "code",
   "execution_count": 16,
   "metadata": {
    "tags": []
   },
   "outputs": [],
   "source": [
    "# Combine all vectors\n",
    "weather_data_frame <- data.frame(weather=weather, \n",
    "                                 visibility=visibility, \n",
    "                                 temp=temp, \n",
    "                                 temp_min=temp_min, \n",
    "                                 temp_max=temp_max, \n",
    "                                 pressure=pressure, \n",
    "                                 humidity=humidity, \n",
    "                                 wind_speed=wind_speed, \n",
    "                                 wind_deg=wind_deg)"
   ]
  },
  {
   "cell_type": "code",
   "execution_count": 17,
   "metadata": {
    "tags": []
   },
   "outputs": [
    {
     "name": "stdout",
     "output_type": "stream",
     "text": [
      "  weather visibility  temp temp_min temp_max pressure humidity wind_speed\n",
      "1    Rain       2000 16.76    16.76    16.76     1011      100       2.06\n",
      "  wind_deg\n",
      "1      340\n"
     ]
    }
   ],
   "source": [
    "# Check the generated data frame\n",
    "print(weather_data_frame)"
   ]
  },
  {
   "cell_type": "markdown",
   "metadata": {},
   "source": [
    "# TASK:  Get 5-day weather forecasts for a list of cities using the OpenWeather API\n"
   ]
  },
  {
   "cell_type": "markdown",
   "metadata": {},
   "source": [
    "Now you should be familiar with the usage of OpenWeather API. Next, you need to complete a task to get 5-day weather forecasts for a list of cities\n"
   ]
  },
  {
   "cell_type": "markdown",
   "metadata": {},
   "source": [
    "_TODO:_ Write a function to return a data frame containing 5-day weather forecasts for a list of cities\n"
   ]
  },
  {
   "cell_type": "code",
   "execution_count": 18,
   "metadata": {
    "tags": []
   },
   "outputs": [],
   "source": [
    "# Create some empty vectors to hold data temporarily\n",
    "\n",
    "# City name column\n",
    "city <- c()\n",
    "# Weather column, rainy or cloudy, etc\n",
    "weather <- c()\n",
    "# Sky visibility column\n",
    "visibility <- c()\n",
    "# Current temperature column\n",
    "temp <- c()\n",
    "# Max temperature column\n",
    "temp_min <- c()\n",
    "# Min temperature column\n",
    "temp_max <- c()\n",
    "# Pressure column\n",
    "pressure <- c()\n",
    "# Humidity column\n",
    "humidity <- c()\n",
    "# Wind speed column\n",
    "wind_speed <- c()\n",
    "# Wind direction column\n",
    "wind_deg <- c()\n",
    "# Forecast timestamp\n",
    "forecast_datetime <- c()\n",
    "# Season column\n",
    "# Note that for season, you can hard code a season value from levels Spring, Summer, Autumn, and Winter based on your current month.\n",
    "season <- c()"
   ]
  },
  {
   "cell_type": "code",
   "execution_count": 19,
   "metadata": {
    "tags": []
   },
   "outputs": [],
   "source": [
    "# Function to get weather forecast data for a given list of city names\n",
    "get_weather_forecast_by_cities <- function(city_names) {\n",
    "    # Initialize empty vectors to hold data temporarily\n",
    "    city <- c()\n",
    "    weather <- c()\n",
    "    visibility <- c()\n",
    "    temp <- c()\n",
    "    temp_min <- c()\n",
    "    temp_max <- c()\n",
    "    pressure <- c()\n",
    "    humidity <- c()\n",
    "    wind_speed <- c()\n",
    "    wind_deg <- c()\n",
    "    forecast_datetime <- c()\n",
    "    season <- c()\n",
    "\n",
    "    # Loop through each city in the provided list\n",
    "    for (citi in city_names) {\n",
    "        your_api_key <- \"c1d1ddad54c9b3173104d6f3e6076c04\"  # Replace with your actual API key\n",
    "        # Forecast API URL\n",
    "        forecast_url <- 'https://api.openweathermap.org/data/2.5/forecast'\n",
    "        # Create query parameters\n",
    "        forecast_query <- list(q = citi, appid = your_api_key, units = \"metric\")\n",
    "        \n",
    "        # Make HTTP GET call for the given city\n",
    "        forecast_response <- GET(forecast_url, query = forecast_query)\n",
    "        \n",
    "        # Check if the response status is OK\n",
    "        if (forecast_response$status_code == 200) {\n",
    "            json_result <- content(forecast_response, as = \"parsed\")\n",
    "            results <- json_result$list\n",
    "            \n",
    "            # Loop through the JSON result for each forecast entry\n",
    "            for (result in results) {\n",
    "                city <- c(city, citi)  # Add city name\n",
    "                weather <- c(weather, result$weather[[1]]$main) \n",
    "                visibility <- c(visibility, ifelse(is.null(result$visibility), NA, result$visibility)) \n",
    "                temp <- c(temp, result$main$temp) \n",
    "                temp_min <- c(temp_min, result$main$temp_min) \n",
    "                temp_max <- c(temp_max, result$main$temp_max)\n",
    "                pressure <- c(pressure, result$main$pressure)\n",
    "                humidity <- c(humidity, result$main$humidity)\n",
    "                wind_speed <- c(wind_speed, result$wind$speed)\n",
    "                wind_deg <- c(wind_deg, result$wind$deg)\n",
    "                forecast_datetime <- c(forecast_datetime, result$dt_txt)\n",
    "                season <- c(season, \"Summer\")  # Hardcoded; modify if needed\n",
    "            }\n",
    "        } else {\n",
    "            message(paste(\"Failed to get data for city:\", citi, \"with status code:\", forecast_response$status_code))\n",
    "        }\n",
    "    }\n",
    "    \n",
    "    # Check if any data was collected\n",
    "    if (length(city) == 0) {\n",
    "        stop(\"No data collected; check city names or API limits.\")\n",
    "    }\n",
    "    \n",
    "    # Combine all vectors into a data frame\n",
    "    df <- data.frame(city = city,\n",
    "                     weather = weather, \n",
    "                     visibility = visibility, \n",
    "                     temp = temp, \n",
    "                     temp_min = temp_min, \n",
    "                     temp_max = temp_max, \n",
    "                     pressure = pressure, \n",
    "                     humidity = humidity, \n",
    "                     wind_speed = wind_speed, \n",
    "                     wind_deg = wind_deg,\n",
    "                     forecast_datetime = forecast_datetime,\n",
    "                     season = season,\n",
    "                     stringsAsFactors = FALSE)\n",
    "    \n",
    "    # Return the data frame\n",
    "    return(df)\n",
    "}"
   ]
  },
  {
   "cell_type": "markdown",
   "metadata": {},
   "source": [
    "Complete and call `get_weather_forecaset_by_cities` function with a list of cities, and write the data frame into a csv file called `cities_weather_forecast.csv`\n"
   ]
  },
  {
   "cell_type": "code",
   "execution_count": 20,
   "metadata": {
    "tags": []
   },
   "outputs": [],
   "source": [
    "# List of cities to get the weather forecast for\n",
    "cities <- c(\"Seoul\", \"Washington, D.C.\", \"Paris\", \"Suzhou\")\n",
    "\n",
    "# Call the function with the list of cities\n",
    "cities_weather_df <- get_weather_forecast_by_cities(cities)"
   ]
  },
  {
   "cell_type": "code",
   "execution_count": 21,
   "metadata": {
    "tags": []
   },
   "outputs": [],
   "source": [
    "cities_weather_df <- get_weather_forecast_by_cities(cities)  # Ensure this line runs without errors\n"
   ]
  },
  {
   "cell_type": "code",
   "execution_count": 22,
   "metadata": {
    "tags": []
   },
   "outputs": [],
   "source": [
    "# Write cities_weather_df to `cities_weather_forecast.csv`\n",
    "write.csv(cities_weather_df, \"cities_weather_forecast.csv\", row.names=FALSE)"
   ]
  },
  {
   "cell_type": "markdown",
   "metadata": {},
   "source": [
    "For more details about HTTP requests with `httr`, please refer to the previous HTTP request notebook here: \n",
    "\n",
    "[HTTP request in R](https://cf-courses-data.s3.us.cloud-object-storage.appdomain.cloud/IBMDeveloperSkillsNetwork-RP0101EN-Coursera/v2/M4_Working_With_Data/lab2_jupyter_http-request.ipynb)\n"
   ]
  },
  {
   "cell_type": "markdown",
   "metadata": {},
   "source": [
    "## TASK: Download datasets as csv files from cloud storage\n"
   ]
  },
  {
   "cell_type": "markdown",
   "metadata": {},
   "source": [
    "The last task of this lab is straightforward: download some aggregated datasets from cloud storage\n"
   ]
  },
  {
   "cell_type": "code",
   "execution_count": null,
   "metadata": {},
   "outputs": [],
   "source": [
    "# Download several datasets\n",
    "\n",
    "# Download some general city information such as name and locations\n",
    "url <- \"https://cf-courses-data.s3.us.cloud-object-storage.appdomain.cloud/IBMDeveloperSkillsNetwork-RP0321EN-SkillsNetwork/labs/datasets/raw_worldcities.csv\"\n",
    "# download the file\n",
    "download.file(url, destfile = \"raw_worldcities.csv\")\n",
    "\n",
    "# Download a specific hourly Seoul bike sharing demand dataset\n",
    "url <- \"https://cf-courses-data.s3.us.cloud-object-storage.appdomain.cloud/IBMDeveloperSkillsNetwork-RP0321EN-SkillsNetwork/labs/datasets/raw_seoul_bike_sharing.csv\"\n",
    "# download the file\n",
    "download.file(url, destfile = \"raw_seoul_bike_sharing.csv\")"
   ]
  },
  {
   "cell_type": "markdown",
   "metadata": {},
   "source": [
    "## Next Step\n"
   ]
  },
  {
   "cell_type": "markdown",
   "metadata": {},
   "source": [
    "Now you should collect all datasets required for this project, all in csv format. Feel free to explore them preliminarily now. However, they are the raw datasets and have to be processed for further data visualization or data analysis.\n",
    "\n",
    "In the next module, you will improve their quality by performing data wrangling tasks.\n"
   ]
  },
  {
   "cell_type": "markdown",
   "metadata": {},
   "source": [
    "## Authors\n",
    "\n",
    "<a href=\"https://www.linkedin.com/in/yan-luo-96288783/\" target=\"_blank\">Yan Luo</a>\n"
   ]
  },
  {
   "cell_type": "markdown",
   "metadata": {},
   "source": [
    "### Other Contributors\n"
   ]
  },
  {
   "cell_type": "markdown",
   "metadata": {},
   "source": [
    "<!--## Change Log\n",
    "\n",
    "| Date (YYYY-MM-DD) | Version | Changed By | Change Description           |\n",
    "| ----------------- | ------- | ---------- | ---------------------------- |\n",
    "| 2021-04-05        | 0.1     | Yan        | Initial version created      |\n",
    "|                   |         |            |                              |\n",
    "|                   |         |            |                              |-->\n",
    "\n",
    "## <h3 align=\"center\"> © IBM Corporation 2021. All rights reserved. <h3/>\n"
   ]
  },
  {
   "cell_type": "code",
   "execution_count": null,
   "metadata": {},
   "outputs": [],
   "source": []
  }
 ],
 "metadata": {
  "kernelspec": {
   "display_name": "R",
   "language": "R",
   "name": "conda-env-r-r"
  },
  "language_info": {
   "codemirror_mode": "r",
   "file_extension": ".r",
   "mimetype": "text/x-r-source",
   "name": "R",
   "pygments_lexer": "r",
   "version": "3.5.1"
  },
  "prev_pub_hash": "1156b18ec22b756aa5b74b85f16e54b316ac70076d8978a7aa44e41195df6632"
 },
 "nbformat": 4,
 "nbformat_minor": 4
}
