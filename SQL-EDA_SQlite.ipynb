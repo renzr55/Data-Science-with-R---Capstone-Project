{
 "cells": [
  {
   "cell_type": "markdown",
   "metadata": {},
   "source": [
    "<center>\n",
    "<img src=\"https://cf-courses-data.s3.us.cloud-object-storage.appdomain.cloud/IBMDeveloperSkillsNetwork-RP0321EN-SkillsNetwork/labs/module_1/images/SN_web_lightmode.png\" width=\"300\"> \n",
    "</center>\n",
    "\n",
    "# Assignment: Exploratory Data Analysis with SQL\n",
    "Estimated time needed: 60 minutes\n",
    "\n",
    "\n",
    "# Introduction\n",
    "Using this R notebook you will perform exploratory data analysis using SQL queries with the RSQLite R package. You will be graded on the accuracy of your results as well as the content of your SQL queries.\n"
   ]
  },
  {
   "cell_type": "markdown",
   "metadata": {},
   "source": [
    "### Establish your SQL Lite connection\n",
    "\n",
    "#### Install RSQLite package\n",
    "The RSQlite  package needs to be installed in your notebook. Let’s load the RSQLite package by clicking on the following cell and executing it (Shift+Enter):\n"
   ]
  },
  {
   "cell_type": "code",
   "execution_count": 1,
   "metadata": {
    "tags": []
   },
   "outputs": [],
   "source": [
    "install.packages(\"https://cran.r-project.org/src/contrib/Archive/RSQLite/RSQLite_0.10.0.tar.gz\", repos = NULL, type = \"source\", dependencies = TRUE) "
   ]
  },
  {
   "cell_type": "markdown",
   "metadata": {},
   "source": [
    "#### Restart Kernel\n",
    "\n",
    "After installing the RSQLite package, it is necessary to restart R Kernel. Click **Kernel** > **Restart Kernel** from the main menu. This will register the newly installed packages. Now proceed to load the RSQLite package. \n"
   ]
  },
  {
   "cell_type": "markdown",
   "metadata": {},
   "source": [
    "#### Load RSQLite\n",
    "Load the 'RSQLite' library, and use the 'dbConnect( )' function as you did in the previous labs to establish the connection to your SQLite database.  \n",
    "You are now ready to start running SQL queries using the RSQLite library as you did in Course 3.\n"
   ]
  },
  {
   "cell_type": "code",
   "execution_count": 1,
   "metadata": {
    "tags": []
   },
   "outputs": [
    {
     "name": "stderr",
     "output_type": "stream",
     "text": [
      "Loading required package: DBI\n"
     ]
    }
   ],
   "source": [
    "library(\"RSQLite\")"
   ]
  },
  {
   "cell_type": "code",
   "execution_count": 2,
   "metadata": {
    "tags": []
   },
   "outputs": [
    {
     "data": {
      "text/html": [],
      "text/latex": [],
      "text/markdown": [],
      "text/plain": [
       "character(0)"
      ]
     },
     "metadata": {},
     "output_type": "display_data"
    }
   ],
   "source": [
    "# provide your solution here to connect db\n",
    "# Create a connection to the SQLite database\n",
    "con <- dbConnect(RSQLite::SQLite(), \"my_database.db\")\n",
    "\n",
    "# List tables in the database\n",
    "dbListTables(con)"
   ]
  },
  {
   "cell_type": "markdown",
   "metadata": {},
   "source": [
    "Download the following csv files:\n",
    "\n",
    "*   [WORLD_CITIES](https://cf-courses-data.s3.us.cloud-object-storage.appdomain.cloud/IBMDeveloperSkillsNetwork-RP0321EN-SkillsNetwork/labs/datasets/world_cities.csv)\n",
    "\n",
    "*   [BIKE_SHARING_SYSTEMS](https://cf-courses-data.s3.us.cloud-object-storage.appdomain.cloud/IBMDeveloperSkillsNetwork-RP0321EN-SkillsNetwork/labs/datasets/bike_sharing_systems.csv)\n",
    "\n",
    "*   [CITIES_WEATHER_FORECAST](https://cf-courses-data.s3.us.cloud-object-storage.appdomain.cloud/IBMDeveloperSkillsNetwork-RP0321EN-SkillsNetwork/labs/datasets/cities_weather_forecast.csv)\n",
    "\n",
    "*   [SEOUL_BIKE_SHARING](https://cf-courses-data.s3.us.cloud-object-storage.appdomain.cloud/IBMDeveloperSkillsNetwork-RP0321EN-SkillsNetwork/labs/datasets/seoul_bike_sharing.csv)\n",
    "\n",
    "and load the csv's  into 4 tables as mentioned below\n",
    "* SEOUL_BIKE_SHARING\n",
    "\n",
    "* CITIES_WEATHER_FORECAST\n",
    "\n",
    "* BIKE_SHARING_SYSTEMS \n",
    "\n",
    "*  WORLD_CITIES\n",
    "\n",
    "> Hint : Use the read_csv() function and dbWriteTable() functions\n"
   ]
  },
  {
   "cell_type": "markdown",
   "metadata": {},
   "source": [
    "\n",
    "## Task 1 - Record Count\n",
    "#### Determine how many records are in the seoul_bike_sharing dataset.\n"
   ]
  },
  {
   "cell_type": "markdown",
   "metadata": {},
   "source": [
    "### Solution 1\n"
   ]
  },
  {
   "cell_type": "code",
   "execution_count": 2,
   "metadata": {
    "tags": []
   },
   "outputs": [
    {
     "data": {
      "text/html": [
       "'/resources/RP0321EN/labs/FinalRSQLite'"
      ],
      "text/latex": [
       "'/resources/RP0321EN/labs/FinalRSQLite'"
      ],
      "text/markdown": [
       "'/resources/RP0321EN/labs/FinalRSQLite'"
      ],
      "text/plain": [
       "[1] \"/resources/RP0321EN/labs/FinalRSQLite\""
      ]
     },
     "metadata": {},
     "output_type": "display_data"
    }
   ],
   "source": [
    "getwd()  # Check your current working directory\n"
   ]
  },
  {
   "cell_type": "code",
   "execution_count": 3,
   "metadata": {
    "tags": []
   },
   "outputs": [],
   "source": [
    "# Download files to your working directory\n",
    "download.file(\n",
    "  \"https://cf-courses-data.s3.us.cloud-object-storage.appdomain.cloud/IBMDeveloperSkillsNetwork-RP0321EN-SkillsNetwork/labs/datasets/seoul_bike_sharing.csv\", \n",
    "  destfile = \"seoul_bike_sharing.csv\"\n",
    ")\n",
    "\n",
    "download.file(\n",
    "  \"https://cf-courses-data.s3.us.cloud-object-storage.appdomain.cloud/IBMDeveloperSkillsNetwork-RP0321EN-SkillsNetwork/labs/datasets/cities_weather_forecast.csv\", \n",
    "  destfile = \"cities_weather_forecast.csv\"\n",
    ")\n",
    "\n",
    "download.file(\n",
    "  \"https://cf-courses-data.s3.us.cloud-object-storage.appdomain.cloud/IBMDeveloperSkillsNetwork-RP0321EN-SkillsNetwork/labs/datasets/bike_sharing_systems.csv\", \n",
    "  destfile = \"bike_sharing_systems.csv\"\n",
    ")\n",
    "\n",
    "download.file(\n",
    "  \"https://cf-courses-data.s3.us.cloud-object-storage.appdomain.cloud/IBMDeveloperSkillsNetwork-RP0321EN-SkillsNetwork/labs/datasets/world_cities.csv\", \n",
    "  destfile = \"world_cities.csv\"\n",
    ")\n"
   ]
  },
  {
   "cell_type": "code",
   "execution_count": 4,
   "metadata": {
    "tags": []
   },
   "outputs": [
    {
     "name": "stderr",
     "output_type": "stream",
     "text": [
      "Parsed with column specification:\n",
      "cols(\n",
      "  DATE = col_character(),\n",
      "  RENTED_BIKE_COUNT = col_double(),\n",
      "  HOUR = col_double(),\n",
      "  TEMPERATURE = col_double(),\n",
      "  HUMIDITY = col_double(),\n",
      "  WIND_SPEED = col_double(),\n",
      "  VISIBILITY = col_double(),\n",
      "  DEW_POINT_TEMPERATURE = col_double(),\n",
      "  SOLAR_RADIATION = col_double(),\n",
      "  RAINFALL = col_double(),\n",
      "  SNOWFALL = col_double(),\n",
      "  SEASONS = col_character(),\n",
      "  HOLIDAY = col_character(),\n",
      "  FUNCTIONING_DAY = col_character()\n",
      ")\n",
      "Parsed with column specification:\n",
      "cols(\n",
      "  CITY = col_character(),\n",
      "  WEATHER = col_character(),\n",
      "  VISIBILITY = col_double(),\n",
      "  TEMP = col_double(),\n",
      "  TEMP_MIN = col_double(),\n",
      "  TEMP_MAX = col_double(),\n",
      "  PRESSURE = col_double(),\n",
      "  HUMIDITY = col_double(),\n",
      "  WIND_SPEED = col_double(),\n",
      "  WIND_DEG = col_double(),\n",
      "  SEASON = col_character(),\n",
      "  FORECAST_DATETIME = col_datetime(format = \"\")\n",
      ")\n",
      "Parsed with column specification:\n",
      "cols(\n",
      "  COUNTRY = col_character(),\n",
      "  CITY = col_character(),\n",
      "  SYSTEM = col_character(),\n",
      "  BICYCLES = col_double()\n",
      ")\n",
      "Parsed with column specification:\n",
      "cols(\n",
      "  CITY = col_character(),\n",
      "  CITY_ASCII = col_character(),\n",
      "  LAT = col_double(),\n",
      "  LNG = col_double(),\n",
      "  COUNTRY = col_character(),\n",
      "  ISO2 = col_character(),\n",
      "  ISO3 = col_character(),\n",
      "  ADMIN_NAME = col_character(),\n",
      "  CAPITAL = col_character(),\n",
      "  POPULATION = col_double(),\n",
      "  ID = col_double()\n",
      ")\n"
     ]
    },
    {
     "data": {
      "text/html": [
       "TRUE"
      ],
      "text/latex": [
       "TRUE"
      ],
      "text/markdown": [
       "TRUE"
      ],
      "text/plain": [
       "[1] TRUE"
      ]
     },
     "metadata": {},
     "output_type": "display_data"
    },
    {
     "data": {
      "text/html": [
       "TRUE"
      ],
      "text/latex": [
       "TRUE"
      ],
      "text/markdown": [
       "TRUE"
      ],
      "text/plain": [
       "[1] TRUE"
      ]
     },
     "metadata": {},
     "output_type": "display_data"
    },
    {
     "data": {
      "text/html": [
       "TRUE"
      ],
      "text/latex": [
       "TRUE"
      ],
      "text/markdown": [
       "TRUE"
      ],
      "text/plain": [
       "[1] TRUE"
      ]
     },
     "metadata": {},
     "output_type": "display_data"
    },
    {
     "data": {
      "text/html": [
       "TRUE"
      ],
      "text/latex": [
       "TRUE"
      ],
      "text/markdown": [
       "TRUE"
      ],
      "text/plain": [
       "[1] TRUE"
      ]
     },
     "metadata": {},
     "output_type": "display_data"
    },
    {
     "name": "stdout",
     "output_type": "stream",
     "text": [
      "[1] \"BIKE_SHARING_SYSTEMS\"    \"CITIES_WEATHER_FORECAST\"\n",
      "[3] \"SEOUL_BIKE_SHARING\"      \"WORLD_CITIES\"           \n"
     ]
    }
   ],
   "source": [
    "# provide your solution here\n",
    "# Install readr if not already installed\n",
    "if (!requireNamespace(\"readr\", quietly = TRUE)) {\n",
    "  install.packages(\"readr\")\n",
    "}\n",
    "\n",
    "# Load the required libraries\n",
    "library(RSQLite)\n",
    "library(readr)  # Provides the read_csv() function\n",
    "\n",
    "# Create a connection to the SQLite database\n",
    "con <- dbConnect(RSQLite::SQLite(), \"my_database.db\")\n",
    "\n",
    "# Load CSV files into data frames\n",
    "seoul_bike_sharing <- read_csv(\"seoul_bike_sharing.csv\")\n",
    "cities_weather_forecast <- read_csv(\"cities_weather_forecast.csv\")\n",
    "bike_sharing_systems <- read_csv(\"bike_sharing_systems.csv\")\n",
    "world_cities <- read_csv(\"world_cities.csv\")\n",
    "\n",
    "# Write the data frames to SQLite tables\n",
    "dbWriteTable(con, \"SEOUL_BIKE_SHARING\", seoul_bike_sharing, overwrite = TRUE)\n",
    "dbWriteTable(con, \"CITIES_WEATHER_FORECAST\", cities_weather_forecast, overwrite = TRUE)\n",
    "dbWriteTable(con, \"BIKE_SHARING_SYSTEMS\", bike_sharing_systems, overwrite = TRUE)\n",
    "dbWriteTable(con, \"WORLD_CITIES\", world_cities, overwrite = TRUE)\n",
    "\n",
    "# Verify tables were added successfully\n",
    "print(dbListTables(con))"
   ]
  },
  {
   "cell_type": "code",
   "execution_count": 5,
   "metadata": {
    "tags": []
   },
   "outputs": [
    {
     "name": "stdout",
     "output_type": "stream",
     "text": [
      "  total_records\n",
      "1          8465\n"
     ]
    }
   ],
   "source": [
    "# SQL query to get the record count from the SEOUL_BIKE_SHARING table\n",
    "record_count <- dbGetQuery(con, \"SELECT COUNT(*) AS total_records FROM SEOUL_BIKE_SHARING\")\n",
    "\n",
    "# Print the result\n",
    "print(record_count)"
   ]
  },
  {
   "cell_type": "markdown",
   "metadata": {},
   "source": [
    "## Task 2 - Operational Hours\n",
    "#### Determine how many hours had non-zero rented bike count.\n"
   ]
  },
  {
   "cell_type": "markdown",
   "metadata": {},
   "source": [
    "### Solution 2\n"
   ]
  },
  {
   "cell_type": "code",
   "execution_count": 8,
   "metadata": {
    "tags": []
   },
   "outputs": [
    {
     "name": "stdout",
     "output_type": "stream",
     "text": [
      "   cid                  name type notnull dflt_value pk\n",
      "1    0             row_names TEXT       0       <NA>  0\n",
      "2    1                  DATE TEXT       0       <NA>  0\n",
      "3    2     RENTED_BIKE_COUNT REAL       0       <NA>  0\n",
      "4    3                  HOUR REAL       0       <NA>  0\n",
      "5    4           TEMPERATURE REAL       0       <NA>  0\n",
      "6    5              HUMIDITY REAL       0       <NA>  0\n",
      "7    6            WIND_SPEED REAL       0       <NA>  0\n",
      "8    7            VISIBILITY REAL       0       <NA>  0\n",
      "9    8 DEW_POINT_TEMPERATURE REAL       0       <NA>  0\n",
      "10   9       SOLAR_RADIATION REAL       0       <NA>  0\n",
      "11  10              RAINFALL REAL       0       <NA>  0\n",
      "12  11              SNOWFALL REAL       0       <NA>  0\n",
      "13  12               SEASONS TEXT       0       <NA>  0\n",
      "14  13               HOLIDAY TEXT       0       <NA>  0\n",
      "15  14       FUNCTIONING_DAY TEXT       0       <NA>  0\n"
     ]
    }
   ],
   "source": [
    "# Get the column names of the SEOUL_BIKE_SHARING table\n",
    "columns <- dbGetQuery(con, \"PRAGMA table_info(SEOUL_BIKE_SHARING)\")\n",
    "\n",
    "# Print the column names to identify any issues\n",
    "print(columns)"
   ]
  },
  {
   "cell_type": "code",
   "execution_count": 9,
   "metadata": {
    "tags": []
   },
   "outputs": [
    {
     "name": "stdout",
     "output_type": "stream",
     "text": [
      "  operational_hours\n",
      "1              8465\n"
     ]
    }
   ],
   "source": [
    "# provide your solution here\n",
    "# SQL query to count the number of hours with non-zero rented bike count\n",
    "non_zero_hours <- dbGetQuery(\n",
    "  con, \n",
    "  \"SELECT COUNT(*) AS operational_hours \n",
    "   FROM SEOUL_BIKE_SHARING \n",
    "   WHERE `RENTED_BIKE_COUNT` > 0\"\n",
    ")\n",
    "\n",
    "# Print the result\n",
    "print(non_zero_hours)"
   ]
  },
  {
   "cell_type": "markdown",
   "metadata": {},
   "source": [
    "## Task 3 - Weather Outlook\n",
    "#### Query the the weather forecast for Seoul over the next 3 hours.\n",
    "Recall that the records in the CITIES_WEATHER_FORECAST dataset are 3 hours apart, so we just need the first record from the query.\n"
   ]
  },
  {
   "cell_type": "markdown",
   "metadata": {},
   "source": [
    "### Solution 3\n"
   ]
  },
  {
   "cell_type": "code",
   "execution_count": 11,
   "metadata": {
    "tags": []
   },
   "outputs": [
    {
     "name": "stdout",
     "output_type": "stream",
     "text": [
      "   cid              name type notnull dflt_value pk\n",
      "1    0         row_names TEXT       0       <NA>  0\n",
      "2    1              CITY TEXT       0       <NA>  0\n",
      "3    2           WEATHER TEXT       0       <NA>  0\n",
      "4    3        VISIBILITY REAL       0       <NA>  0\n",
      "5    4              TEMP REAL       0       <NA>  0\n",
      "6    5          TEMP_MIN REAL       0       <NA>  0\n",
      "7    6          TEMP_MAX REAL       0       <NA>  0\n",
      "8    7          PRESSURE REAL       0       <NA>  0\n",
      "9    8          HUMIDITY REAL       0       <NA>  0\n",
      "10   9        WIND_SPEED REAL       0       <NA>  0\n",
      "11  10          WIND_DEG REAL       0       <NA>  0\n",
      "12  11            SEASON TEXT       0       <NA>  0\n",
      "13  12 FORECAST_DATETIME TEXT       0       <NA>  0\n"
     ]
    }
   ],
   "source": [
    "# Get the column names of the CITIES_WEATHER_FORECAST table\n",
    "columns_weather <- dbGetQuery(con, \"PRAGMA table_info(CITIES_WEATHER_FORECAST)\")\n",
    "\n",
    "# Print the column names to identify any issues\n",
    "print(columns_weather)"
   ]
  },
  {
   "cell_type": "code",
   "execution_count": 12,
   "metadata": {
    "tags": []
   },
   "outputs": [
    {
     "name": "stdout",
     "output_type": "stream",
     "text": [
      "  row_names  CITY WEATHER VISIBILITY  TEMP TEMP_MIN TEMP_MAX PRESSURE HUMIDITY\n",
      "1         1 Seoul   Clear      10000 12.32    10.91    12.32     1015       50\n",
      "  WIND_SPEED WIND_DEG SEASON FORECAST_DATETIME\n",
      "1       2.18      248 Spring      1618574400.0\n"
     ]
    }
   ],
   "source": [
    "# provide your solution here\n",
    "# SQL query to get the first weather forecast record for Seoul\n",
    "seoul_weather <- dbGetQuery(\n",
    "  con, \n",
    "  \"SELECT * \n",
    "   FROM CITIES_WEATHER_FORECAST \n",
    "   WHERE city = 'Seoul' \n",
    "   ORDER BY FORECAST_DATETIME ASC \n",
    "   LIMIT 1\"\n",
    ")\n",
    "\n",
    "# Print the result\n",
    "print(seoul_weather)"
   ]
  },
  {
   "cell_type": "markdown",
   "metadata": {},
   "source": [
    "## Task 4 - Seasons\n",
    "#### Find which seasons are included in the seoul bike sharing dataset.\n"
   ]
  },
  {
   "cell_type": "markdown",
   "metadata": {},
   "source": [
    "### Solution 4\n"
   ]
  },
  {
   "cell_type": "code",
   "execution_count": 14,
   "metadata": {
    "tags": []
   },
   "outputs": [
    {
     "name": "stdout",
     "output_type": "stream",
     "text": [
      "   cid                  name type notnull dflt_value pk\n",
      "1    0             row_names TEXT       0       <NA>  0\n",
      "2    1                  DATE TEXT       0       <NA>  0\n",
      "3    2     RENTED_BIKE_COUNT REAL       0       <NA>  0\n",
      "4    3                  HOUR REAL       0       <NA>  0\n",
      "5    4           TEMPERATURE REAL       0       <NA>  0\n",
      "6    5              HUMIDITY REAL       0       <NA>  0\n",
      "7    6            WIND_SPEED REAL       0       <NA>  0\n",
      "8    7            VISIBILITY REAL       0       <NA>  0\n",
      "9    8 DEW_POINT_TEMPERATURE REAL       0       <NA>  0\n",
      "10   9       SOLAR_RADIATION REAL       0       <NA>  0\n",
      "11  10              RAINFALL REAL       0       <NA>  0\n",
      "12  11              SNOWFALL REAL       0       <NA>  0\n",
      "13  12               SEASONS TEXT       0       <NA>  0\n",
      "14  13               HOLIDAY TEXT       0       <NA>  0\n",
      "15  14       FUNCTIONING_DAY TEXT       0       <NA>  0\n"
     ]
    }
   ],
   "source": [
    "# Get the column names of the SEOUL_BIKE_SHARING table\n",
    "columns_bike_sharing <- dbGetQuery(con, \"PRAGMA table_info(SEOUL_BIKE_SHARING)\")\n",
    "\n",
    "# Print the column names to identify any issues\n",
    "print(columns_bike_sharing)"
   ]
  },
  {
   "cell_type": "code",
   "execution_count": 15,
   "metadata": {
    "tags": []
   },
   "outputs": [
    {
     "name": "stdout",
     "output_type": "stream",
     "text": [
      "  SEASONS\n",
      "1  Winter\n",
      "2  Spring\n",
      "3  Summer\n",
      "4  Autumn\n"
     ]
    }
   ],
   "source": [
    "# provide your solution here\n",
    "# SQL query to find distinct seasons in the SEOUL_BIKE_SHARING dataset\n",
    "unique_seasons <- dbGetQuery(con, \"SELECT DISTINCT SEASONS FROM SEOUL_BIKE_SHARING\")\n",
    "\n",
    "# Print the result\n",
    "print(unique_seasons)"
   ]
  },
  {
   "cell_type": "markdown",
   "metadata": {},
   "source": [
    "## Task 5 - Date Range\n",
    "#### Find the first and last dates in the Seoul Bike Sharing dataset.\n"
   ]
  },
  {
   "cell_type": "markdown",
   "metadata": {},
   "source": [
    "### Solution 5\n"
   ]
  },
  {
   "cell_type": "code",
   "execution_count": 16,
   "metadata": {
    "tags": []
   },
   "outputs": [
    {
     "name": "stdout",
     "output_type": "stream",
     "text": [
      "   cid                  name type notnull dflt_value pk\n",
      "1    0             row_names TEXT       0       <NA>  0\n",
      "2    1                  DATE TEXT       0       <NA>  0\n",
      "3    2     RENTED_BIKE_COUNT REAL       0       <NA>  0\n",
      "4    3                  HOUR REAL       0       <NA>  0\n",
      "5    4           TEMPERATURE REAL       0       <NA>  0\n",
      "6    5              HUMIDITY REAL       0       <NA>  0\n",
      "7    6            WIND_SPEED REAL       0       <NA>  0\n",
      "8    7            VISIBILITY REAL       0       <NA>  0\n",
      "9    8 DEW_POINT_TEMPERATURE REAL       0       <NA>  0\n",
      "10   9       SOLAR_RADIATION REAL       0       <NA>  0\n",
      "11  10              RAINFALL REAL       0       <NA>  0\n",
      "12  11              SNOWFALL REAL       0       <NA>  0\n",
      "13  12               SEASONS TEXT       0       <NA>  0\n",
      "14  13               HOLIDAY TEXT       0       <NA>  0\n",
      "15  14       FUNCTIONING_DAY TEXT       0       <NA>  0\n"
     ]
    }
   ],
   "source": [
    "# provide your solution here\n",
    "# Get the column names of the SEOUL_BIKE_SHARING table\n",
    "columns_bike_sharing <- dbGetQuery(con, \"PRAGMA table_info(SEOUL_BIKE_SHARING)\")\n",
    "\n",
    "# Print the column names to identify any issues\n",
    "print(columns_bike_sharing)"
   ]
  },
  {
   "cell_type": "code",
   "execution_count": 17,
   "metadata": {
    "tags": []
   },
   "outputs": [
    {
     "name": "stdout",
     "output_type": "stream",
     "text": [
      "  first_date  last_date\n",
      "1 01/01/2018 31/12/2017\n"
     ]
    }
   ],
   "source": [
    "# Replace `date_column_name` with the actual name of your date column\n",
    "date_range <- dbGetQuery(con, \"\n",
    "  SELECT MIN(DATE) AS first_date, \n",
    "         MAX(DATE) AS last_date \n",
    "  FROM SEOUL_BIKE_SHARING\n",
    "\")\n",
    "\n",
    "# Print the result\n",
    "print(date_range)"
   ]
  },
  {
   "cell_type": "markdown",
   "metadata": {},
   "source": [
    "## Task 6 - Subquery - 'all-time high'\n",
    "#### determine which date and hour had the most bike rentals.\n"
   ]
  },
  {
   "cell_type": "markdown",
   "metadata": {},
   "source": [
    "### Solution 6\n"
   ]
  },
  {
   "cell_type": "code",
   "execution_count": 20,
   "metadata": {
    "tags": []
   },
   "outputs": [
    {
     "name": "stdout",
     "output_type": "stream",
     "text": [
      "   cid                  name type notnull dflt_value pk\n",
      "1    0             row_names TEXT       0       <NA>  0\n",
      "2    1                  DATE TEXT       0       <NA>  0\n",
      "3    2     RENTED_BIKE_COUNT REAL       0       <NA>  0\n",
      "4    3                  HOUR REAL       0       <NA>  0\n",
      "5    4           TEMPERATURE REAL       0       <NA>  0\n",
      "6    5              HUMIDITY REAL       0       <NA>  0\n",
      "7    6            WIND_SPEED REAL       0       <NA>  0\n",
      "8    7            VISIBILITY REAL       0       <NA>  0\n",
      "9    8 DEW_POINT_TEMPERATURE REAL       0       <NA>  0\n",
      "10   9       SOLAR_RADIATION REAL       0       <NA>  0\n",
      "11  10              RAINFALL REAL       0       <NA>  0\n",
      "12  11              SNOWFALL REAL       0       <NA>  0\n",
      "13  12               SEASONS TEXT       0       <NA>  0\n",
      "14  13               HOLIDAY TEXT       0       <NA>  0\n",
      "15  14       FUNCTIONING_DAY TEXT       0       <NA>  0\n"
     ]
    }
   ],
   "source": [
    "# Get the column names of the SEOUL_BIKE_SHARING table\n",
    "columns_bike_sharing <- dbGetQuery(con, \"PRAGMA table_info(SEOUL_BIKE_SHARING)\")\n",
    "\n",
    "# Print the column names to identify any issues\n",
    "print(columns_bike_sharing)"
   ]
  },
  {
   "cell_type": "code",
   "execution_count": 22,
   "metadata": {
    "tags": []
   },
   "outputs": [
    {
     "name": "stdout",
     "output_type": "stream",
     "text": [
      "        DATE HOUR RENTED_BIKE_COUNT\n",
      "1 19/06/2018   18              3556\n"
     ]
    }
   ],
   "source": [
    "# SQL query to find the date and hour with the most bike rentals\n",
    "all_time_high <- dbGetQuery(con, \"\n",
    "  SELECT DATE, HOUR, RENTED_BIKE_COUNT\n",
    "  FROM SEOUL_BIKE_SHARING\n",
    "  WHERE RENTED_BIKE_COUNT = (\n",
    "    SELECT MAX(RENTED_BIKE_COUNT)\n",
    "    FROM SEOUL_BIKE_SHARING\n",
    "  )\n",
    "\")\n",
    "\n",
    "# Print the result\n",
    "print(all_time_high)"
   ]
  },
  {
   "cell_type": "markdown",
   "metadata": {},
   "source": [
    "## Task 7 - Hourly popularity and temperature by season\n",
    "#### Determine the average hourly temperature and the average number of bike rentals per hour over each season. List the top ten results by average bike count.\n"
   ]
  },
  {
   "cell_type": "markdown",
   "metadata": {},
   "source": [
    "### Solution 7\n"
   ]
  },
  {
   "cell_type": "code",
   "execution_count": 23,
   "metadata": {
    "tags": []
   },
   "outputs": [
    {
     "name": "stdout",
     "output_type": "stream",
     "text": [
      "  SEASONS avg_temperature avg_bike_count\n",
      "1  Summer       26.587711      1034.0734\n",
      "2  Autumn       13.821580       924.1105\n",
      "3  Spring       13.021685       746.2542\n",
      "4  Winter       -2.540463       225.5412\n"
     ]
    }
   ],
   "source": [
    "# provide your solution here\n",
    "# SQL query to calculate average temperature and bike rentals per hour by season\n",
    "avg_hourly_popularity_temp <- dbGetQuery(con, \"\n",
    "  SELECT SEASONS,\n",
    "         AVG(TEMPERATURE) AS avg_temperature,\n",
    "         AVG(RENTED_BIKE_COUNT) AS avg_bike_count\n",
    "  FROM SEOUL_BIKE_SHARING\n",
    "  GROUP BY SEASONS\n",
    "  ORDER BY avg_bike_count DESC\n",
    "  LIMIT 10\n",
    "\")\n",
    "\n",
    "# Print the result\n",
    "print(avg_hourly_popularity_temp)"
   ]
  },
  {
   "cell_type": "markdown",
   "metadata": {},
   "source": [
    "## Task 8 - Rental Seasonality\n",
    "#### Find the average hourly bike count during each season. \n",
    "Also include the minimum, maximum, and standard deviation of the hourly bike count for each season. \n",
    "\n",
    "> Hint : Use the SQRT(AVG(col*col) - AVG(col)*AVG(col) ) function where col refers to your column name for finding the standard deviation\n"
   ]
  },
  {
   "cell_type": "markdown",
   "metadata": {},
   "source": [
    "### Solution 8\n"
   ]
  },
  {
   "cell_type": "code",
   "execution_count": 27,
   "metadata": {
    "tags": []
   },
   "outputs": [
    {
     "name": "stdout",
     "output_type": "stream",
     "text": [
      "  SEASONS avg_bike_count min_bike_count max_bike_count  variance\n",
      "1  Autumn       924.1105              2           3298 381168.50\n",
      "2  Spring       746.2542              2           3251 382572.85\n",
      "3  Summer      1034.0734              9           3556 476222.05\n",
      "4  Winter       225.5412              3            937  22601.34\n",
      "  stddev_bike_count\n",
      "1          617.3885\n",
      "2          618.5247\n",
      "3          690.0884\n",
      "4          150.3374\n"
     ]
    }
   ],
   "source": [
    "# provide your solution here\n",
    "# SQL query to calculate average, min, max, and standard deviation of bike rentals per season\n",
    "rental_seasonality <- dbGetQuery(con, \"\n",
    "  SELECT SEASONS,\n",
    "         AVG(RENTED_BIKE_COUNT) AS avg_bike_count,\n",
    "         MIN(RENTED_BIKE_COUNT) AS min_bike_count,\n",
    "         MAX(RENTED_BIKE_COUNT) AS max_bike_count,\n",
    "         (AVG(RENTED_BIKE_COUNT * RENTED_BIKE_COUNT) - AVG(RENTED_BIKE_COUNT) * AVG(RENTED_BIKE_COUNT)) AS variance,\n",
    "         (SELECT\n",
    "             (AVG(RENTED_BIKE_COUNT * RENTED_BIKE_COUNT) - AVG(RENTED_BIKE_COUNT) * AVG(RENTED_BIKE_COUNT)) \n",
    "          FROM SEOUL_BIKE_SHARING WHERE SEASONS = s.SEASONS) AS variance\n",
    "  FROM SEOUL_BIKE_SHARING AS s\n",
    "  GROUP BY SEASONS\n",
    "\")\n",
    "\n",
    "# Calculate the standard deviation separately in R, as SQRT cannot be used in SQLite\n",
    "rental_seasonality$stddev_bike_count <- sqrt(rental_seasonality$variance)\n",
    "\n",
    "# Remove the variance column\n",
    "rental_seasonality$variance <- NULL\n",
    "\n",
    "# Print the result\n",
    "print(rental_seasonality)"
   ]
  },
  {
   "cell_type": "markdown",
   "metadata": {},
   "source": [
    "Let's explore a bit and see what might be the most significant contributing factors in terms of the provided data.\n"
   ]
  },
  {
   "cell_type": "markdown",
   "metadata": {},
   "source": [
    "## Task 9 - Weather Seasonality\n",
    "#### Consider the weather over each season. On average, what were the TEMPERATURE, HUMIDITY, WIND_SPEED, VISIBILITY, DEW_POINT_TEMPERATURE, SOLAR_RADIATION, RAINFALL, and SNOWFALL per season?\n",
    "Include the average bike count as well , and rank the results by average bike count so you can see if it is correlated with the weather at all. \n"
   ]
  },
  {
   "cell_type": "markdown",
   "metadata": {},
   "source": [
    "### Solution 9\n"
   ]
  },
  {
   "cell_type": "code",
   "execution_count": 28,
   "metadata": {
    "tags": []
   },
   "outputs": [
    {
     "name": "stdout",
     "output_type": "stream",
     "text": [
      "  SEASONS avg_temperature avg_humidity avg_wind_speed avg_visibility\n",
      "1  Summer       26.587711     64.98143       1.609420       1501.745\n",
      "2  Autumn       13.821580     59.04491       1.492101       1558.174\n",
      "3  Spring       13.021685     58.75833       1.857778       1240.912\n",
      "4  Winter       -2.540463     49.74491       1.922685       1445.987\n",
      "  avg_dew_point_temperature avg_solar_radiation avg_rainfall avg_snowfall\n",
      "1                 18.750136           0.7612545   0.25348732   0.00000000\n",
      "2                  5.150594           0.5227827   0.11765617   0.06350026\n",
      "3                  4.091389           0.6803009   0.18694444   0.00000000\n",
      "4                -12.416667           0.2981806   0.03282407   0.24750000\n",
      "  avg_bike_count\n",
      "1      1034.0734\n",
      "2       924.1105\n",
      "3       746.2542\n",
      "4       225.5412\n"
     ]
    }
   ],
   "source": [
    "# provide your solution here\n",
    "# SQL query to calculate average weather metrics and average bike count per season\n",
    "weather_seasonality <- dbGetQuery(con, \"\n",
    "  SELECT \n",
    "      SEASONS,\n",
    "      AVG(TEMPERATURE) AS avg_temperature,\n",
    "      AVG(HUMIDITY) AS avg_humidity,\n",
    "      AVG(WIND_SPEED) AS avg_wind_speed,\n",
    "      AVG(VISIBILITY) AS avg_visibility,\n",
    "      AVG(DEW_POINT_TEMPERATURE) AS avg_dew_point_temperature,\n",
    "      AVG(SOLAR_RADIATION) AS avg_solar_radiation,\n",
    "      AVG(RAINFALL) AS avg_rainfall,\n",
    "      AVG(SNOWFALL) AS avg_snowfall,\n",
    "      AVG(RENTED_BIKE_COUNT) AS avg_bike_count\n",
    "  FROM \n",
    "      SEOUL_BIKE_SHARING\n",
    "  GROUP BY \n",
    "      SEASONS\n",
    "  ORDER BY \n",
    "      avg_bike_count DESC\n",
    "\")\n",
    "\n",
    "# Print the result\n",
    "print(weather_seasonality)"
   ]
  },
  {
   "cell_type": "markdown",
   "metadata": {},
   "source": [
    "## Task 10 - Total Bike Count and City Info for Seoul\n",
    "#### Use an implicit join across the WORLD_CITIES and the BIKE_SHARING_SYSTEMS tables to determine the total number of bikes avaialble in Seoul, plus the following city information about Seoul: CITY, COUNTRY, LAT, LON, POPULATION, in a single view.\n",
    "Notice that in this case, the CITY column will work for the WORLD_CITIES table, but in general you would have to use the CITY_ASCII column.\n"
   ]
  },
  {
   "cell_type": "markdown",
   "metadata": {},
   "source": [
    "### Solution 10\n"
   ]
  },
  {
   "cell_type": "code",
   "execution_count": null,
   "metadata": {},
   "outputs": [],
   "source": [
    "WORLD_CITIES\n",
    "\n",
    "BIKE_SHARING_SYSTEMS\n",
    "\n",
    "CITIES_WEATHER_FORECAST\n",
    "\n",
    "SEOUL_BIKE_SHARING"
   ]
  },
  {
   "cell_type": "code",
   "execution_count": 41,
   "metadata": {
    "tags": []
   },
   "outputs": [
    {
     "name": "stdout",
     "output_type": "stream",
     "text": [
      "                     name\n",
      "1      SEOUL_BIKE_SHARING\n",
      "2 CITIES_WEATHER_FORECAST\n",
      "3    BIKE_SHARING_SYSTEMS\n",
      "4            WORLD_CITIES\n"
     ]
    }
   ],
   "source": [
    "tables <- dbGetQuery(con, \"SELECT name FROM sqlite_master WHERE type='table';\")\n",
    "print(tables)\n"
   ]
  },
  {
   "cell_type": "code",
   "execution_count": 50,
   "metadata": {
    "tags": []
   },
   "outputs": [
    {
     "name": "stdout",
     "output_type": "stream",
     "text": [
      "   cid       name type notnull dflt_value pk\n",
      "1    0  row_names TEXT       0       <NA>  0\n",
      "2    1       CITY TEXT       0       <NA>  0\n",
      "3    2 CITY_ASCII TEXT       0       <NA>  0\n",
      "4    3        LAT REAL       0       <NA>  0\n",
      "5    4        LNG REAL       0       <NA>  0\n",
      "6    5    COUNTRY TEXT       0       <NA>  0\n",
      "7    6       ISO2 TEXT       0       <NA>  0\n",
      "8    7       ISO3 TEXT       0       <NA>  0\n",
      "9    8 ADMIN_NAME TEXT       0       <NA>  0\n",
      "10   9    CAPITAL TEXT       0       <NA>  0\n",
      "11  10 POPULATION REAL       0       <NA>  0\n",
      "12  11         ID REAL       0       <NA>  0\n"
     ]
    }
   ],
   "source": [
    "schema <- dbGetQuery(con, \"PRAGMA table_info(WORLD_CITIES);\")\n",
    "print(schema)\n"
   ]
  },
  {
   "cell_type": "code",
   "execution_count": 52,
   "metadata": {
    "tags": []
   },
   "outputs": [
    {
     "name": "stdout",
     "output_type": "stream",
     "text": [
      "   CITY      COUNTRY     LAT LNG POPULATION total_bikes\n",
      "1 Seoul Korea, South 37.5833 127   21794000       20000\n"
     ]
    }
   ],
   "source": [
    "# provide your solution here\n",
    "# Query to get total bike count and city info for Seoul\n",
    "query <- \"\n",
    "SELECT \n",
    "    wc.CITY,\n",
    "    wc.COUNTRY,\n",
    "    wc.LAT,\n",
    "    wc.LNG,\n",
    "    wc.POPULATION,\n",
    "    bss.BICYCLES AS total_bikes\n",
    "FROM \n",
    "    WORLD_CITIES wc\n",
    "JOIN \n",
    "    BIKE_SHARING_SYSTEMS bss ON wc.CITY_ASCII = bss.CITY\n",
    "WHERE \n",
    "    wc.CITY = 'Seoul';\n",
    "\n",
    "\n",
    "\"\n",
    "\n",
    "# Execute the query\n",
    "result <- dbGetQuery(con, query)\n",
    "\n",
    "# Print the result\n",
    "print(result)"
   ]
  },
  {
   "cell_type": "markdown",
   "metadata": {},
   "source": [
    "## Task 11 - Find all city names and coordinates with comparable bike scale to Seoul's bike sharing system\n",
    "#### Find all cities with total bike counts between 15000 and 20000. Return the city and country names, plus the coordinates (LAT, LNG), population, and number of bicycles for each city.\n",
    "Later we will ask you to visualize these similar cities on leaflet, with some weather data.\n"
   ]
  },
  {
   "cell_type": "markdown",
   "metadata": {},
   "source": [
    "### Solution 11\n"
   ]
  },
  {
   "cell_type": "code",
   "execution_count": 57,
   "metadata": {
    "tags": []
   },
   "outputs": [
    {
     "name": "stdout",
     "output_type": "stream",
     "text": [
      "  city_name country_name latitude longitude population total_bikes\n",
      "1   Beijing        China  39.9050  116.3914   19433000       16000\n",
      "2    Ningbo        China  29.8750  121.5492    7639000       15000\n",
      "3  Shanghai        China  31.1667  121.4667   22120000       19165\n",
      "4   Weifang        China  36.7167  119.1000    9373000       20000\n",
      "5     Xi’an        China  34.2667  108.9000    7135000       20000\n",
      "6   Zhuzhou        China  27.8407  113.1469    3855609       20000\n",
      "7     Seoul Korea, South  37.5833  127.0000   21794000       20000\n"
     ]
    }
   ],
   "source": [
    "query <- \"\n",
    "SELECT \n",
    "    wc.CITY AS city_name,\n",
    "    wc.COUNTRY AS country_name,\n",
    "    wc.LAT AS latitude,\n",
    "    wc.LNG AS longitude,  -- Change this to LON\n",
    "    wc.POPULATION AS population,\n",
    "    bss.BICYCLES AS total_bikes\n",
    "FROM \n",
    "    WORLD_CITIES wc\n",
    "JOIN \n",
    "    BIKE_SHARING_SYSTEMS bss \n",
    "ON \n",
    "    wc.CITY_ASCII = bss.CITY\n",
    "WHERE \n",
    "    bss.BICYCLES BETWEEN 15000 AND 20000;\n",
    "\"\n",
    "\n",
    "result <- dbGetQuery(con, query)\n",
    "print(result)\n"
   ]
  },
  {
   "cell_type": "code",
   "execution_count": 60,
   "metadata": {
    "tags": []
   },
   "outputs": [
    {
     "data": {
      "text/html": [
       "TRUE"
      ],
      "text/latex": [
       "TRUE"
      ],
      "text/markdown": [
       "TRUE"
      ],
      "text/plain": [
       "[1] TRUE"
      ]
     },
     "metadata": {},
     "output_type": "display_data"
    }
   ],
   "source": [
    "dbDisconnect(con)  # This closes the database connection\n"
   ]
  },
  {
   "cell_type": "markdown",
   "metadata": {},
   "source": [
    "## Author(s)\n",
    "\n",
    "<h4> Jeff Grossman </h4>\n",
    "<h4> Lakshmi Holla </h4>\n",
    "\n",
    "\n",
    "## Other Contributor(s)\n",
    "\n",
    "<h4>  Malika Singla </h4>\n",
    "\n",
    "<!--## Change log\n",
    "\n",
    "| Date (YYYY-MM-DD) | Version | Changed By | Change Description                 |\n",
    "| ----------------- | ------- | ---------- | ---------------------------------- |\n",
    "| 2022-03-03        | 1.0     |Lakshmi Holla  | Created lab using sqlite3          |-->\n",
    "\n",
    "## <h3 align=\"center\"> © IBM Corporation 2022. All rights reserved. <h3/>\n"
   ]
  },
  {
   "cell_type": "code",
   "execution_count": null,
   "metadata": {},
   "outputs": [],
   "source": []
  }
 ],
 "metadata": {
  "kernelspec": {
   "display_name": "R",
   "language": "R",
   "name": "conda-env-r-r"
  },
  "language_info": {
   "codemirror_mode": "r",
   "file_extension": ".r",
   "mimetype": "text/x-r-source",
   "name": "R",
   "pygments_lexer": "r",
   "version": "3.5.1"
  },
  "prev_pub_hash": "aec4d69ac9a601945e548ceeb943a3da719b90cac1cddd3d200b7d1ab9ce6d13"
 },
 "nbformat": 4,
 "nbformat_minor": 4
}
